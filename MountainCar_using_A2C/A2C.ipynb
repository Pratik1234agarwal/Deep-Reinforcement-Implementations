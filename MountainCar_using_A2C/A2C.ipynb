{
 "cells": [
  {
   "cell_type": "code",
   "execution_count": 44,
   "metadata": {},
   "outputs": [],
   "source": [
    "import gym\n",
    "import torch\n",
    "from torch.autograd import Variable\n",
    "import torch.nn as nn\n",
    "import torch.optim as optim\n",
    "import torch.nn.functional as F\n",
    "import numpy as np\n",
    "import matplotlib.pyplot as plt\n",
    "%matplotlib inline"
   ]
  },
  {
   "cell_type": "markdown",
   "metadata": {},
   "source": [
    "# Implementing A2C"
   ]
  },
  {
   "cell_type": "markdown",
   "metadata": {},
   "source": [
    "## Examine the env"
   ]
  },
  {
   "cell_type": "code",
   "execution_count": 45,
   "metadata": {},
   "outputs": [
    {
     "name": "stdout",
     "output_type": "stream",
     "text": [
      "State space :  Box(4,)\n",
      "Action Space :  Discrete(2)\n",
      "State size :  4\n",
      "Action size :  2\n"
     ]
    }
   ],
   "source": [
    "env = gym.make('CartPole-v0')\n",
    "print(\"State space : \",env.observation_space)\n",
    "print(\"Action Space : \",env.action_space)\n",
    "state_size = env.observation_space.shape[0]\n",
    "action_size = env.action_space.n\n",
    "print(\"State size : \",state_size)\n",
    "print(\"Action size : \",action_size)"
   ]
  },
  {
   "cell_type": "markdown",
   "metadata": {},
   "source": [
    "### Watching an agent taking random action"
   ]
  },
  {
   "cell_type": "code",
   "execution_count": 46,
   "metadata": {},
   "outputs": [
    {
     "name": "stdout",
     "output_type": "stream",
     "text": [
      "Score :  20.0\n"
     ]
    }
   ],
   "source": [
    "state = env.reset()\n",
    "rewards = 0 \n",
    "while True:\n",
    "    action= env.action_space.sample()\n",
    "    env.render()\n",
    "    state,reward,done,_ = env.step(action)\n",
    "    rewards+=reward\n",
    "    if done:\n",
    "        break\n",
    "print(\"Score : \",rewards)"
   ]
  },
  {
   "cell_type": "markdown",
   "metadata": {},
   "source": [
    "## Building the Neural Network"
   ]
  },
  {
   "cell_type": "code",
   "execution_count": 5,
   "metadata": {},
   "outputs": [],
   "source": [
    "class Network(nn.Module):\n",
    "    def __init__(self,input_size,action_size):\n",
    "        super().__init__()\n",
    "        self.fc1 = nn.Linear(input_size,16)\n",
    "        self.fc2 = nn.Linear(16,8)\n",
    "        self.actor = nn.Linear(8,action_size)\n",
    "        self.critic = nn.Linear(8,1)\n",
    "    def forward(self,state):\n",
    "        state = torch.from_numpy(state).float().unsqueeze(0)\n",
    "        x = F.relu(self.fc1(state))\n",
    "        x = F.relu(self.fc2(x))\n",
    "        actor = F.softmax(self.actor(x),dim=1)\n",
    "        critic = self.critic(x)\n",
    "        return actor,critic"
   ]
  },
  {
   "cell_type": "code",
   "execution_count": 51,
   "metadata": {},
   "outputs": [],
   "source": [
    "model = Network(state_size,action_size)\n",
    "optimizer = optim.Adam(model.parameters(),lr=0.001)"
   ]
  },
  {
   "cell_type": "markdown",
   "metadata": {},
   "source": [
    "### Running the untrained Network"
   ]
  },
  {
   "cell_type": "code",
   "execution_count": 52,
   "metadata": {},
   "outputs": [
    {
     "name": "stdout",
     "output_type": "stream",
     "text": [
      "Total Score :  8.0\n"
     ]
    }
   ],
   "source": [
    "rewards = 0\n",
    "state = env.reset()\n",
    "while True:\n",
    "    action,_ = model(state)\n",
    "    action = np.argmax(action.detach().numpy())\n",
    "    state,reward,done,_ = env.step(action)\n",
    "    env.render()\n",
    "    rewards+=reward\n",
    "    if done:\n",
    "        break\n",
    "print(\"Total Score : \",rewards)"
   ]
  },
  {
   "cell_type": "markdown",
   "metadata": {},
   "source": [
    "## Actor-Critic Algorithm (A2C)"
   ]
  },
  {
   "cell_type": "code",
   "execution_count": 58,
   "metadata": {},
   "outputs": [
    {
     "name": "stdout",
     "output_type": "stream",
     "text": [
      "Episode 3000  avg reward : 20.791333 "
     ]
    }
   ],
   "source": [
    "n_episodes = 3000\n",
    "gamma = 0.99\n",
    "reward_per_ep = []\n",
    "for i in range(n_episodes):\n",
    "    state = env.reset()\n",
    "    scores = []\n",
    "    values = []\n",
    "    log_probs = []\n",
    "    while True:\n",
    "        policy_dist,value = model(state)\n",
    "        value = value.detach().numpy()[0,0]\n",
    "        values.append(value)\n",
    "        dist = policy_dist.detach().numpy() \n",
    "        action = np.random.choice(action_size, p=np.squeeze(dist))\n",
    "        log_prob = torch.log(policy_dist.squeeze(0)[action])\n",
    "        log_probs.append(log_prob)\n",
    "        n_state,reward,done,_ = env.step(action)\n",
    "        scores.append(reward)\n",
    "        state = n_state\n",
    "        if done:\n",
    "            policy_dist,value = model(state)\n",
    "            log_prob = torch.log(policy_dist.squeeze(0)[action])\n",
    "            log_probs.append(log_prob)\n",
    "            value = value.detach().numpy()[0,0]\n",
    "            values.append(value)\n",
    "            break\n",
    "        \n",
    "    reward_per_ep.append(np.sum(scores))\n",
    "    # Calculating the Q value \n",
    "    Q_vals = np.zeros_like(values)\n",
    "    temp=0\n",
    "    for j in reversed(range(len(scores))):\n",
    "        temp = scores[j]+gamma*temp\n",
    "        Q_vals[j] = temp\n",
    "\n",
    "    values = torch.FloatTensor(values)\n",
    "    Q_vals = torch.FloatTensor(Q_vals)\n",
    "    advantage = Q_vals-values\n",
    "    log_probs = torch.tensor(log_probs,requires_grad=True)\n",
    "    # Loss \n",
    "    actor_loss = (-log_probs*advantage).mean()\n",
    "    critic_loss = (0.5*advantage**2).mean()\n",
    "\n",
    "    ac_loss = actor_loss+critic_loss\n",
    "\n",
    "    optimizer.zero_grad()\n",
    "    ac_loss.backward()\n",
    "    optimizer.step()\n",
    "    print(\"\\rEpisode {}  avg reward : {:3f} \".format((i+1),np.mean(reward_per_ep)),end=\"\")"
   ]
  },
  {
   "cell_type": "code",
   "execution_count": 57,
   "metadata": {},
   "outputs": [
    {
     "data": {
      "image/png": "[encoded data removed]",
      "text/plain": [
       "<Figure size 432x288 with 1 Axes>"
      ]
     },
     "metadata": {
      "needs_background": "light"
     },
     "output_type": "display_data"
    }
   ],
   "source": [
    "plt.plot(np.arange(len(reward_per_ep)),reward_per_ep,Color='b')\n",
    "plt.show()"
   ]
  }
 ],
 "metadata": {
  "kernelspec": {
   "display_name": "drlnd",
   "language": "python",
   "name": "drlnd"
  },
  "language_info": {
   "codemirror_mode": {
    "name": "ipython",
    "version": 3
   },
   "file_extension": ".py",
   "mimetype": "text/x-python",
   "name": "python",
   "nbconvert_exporter": "python",
   "pygments_lexer": "ipython3",
   "version": "3.6.10"
  }
 },
 "nbformat": 4,
 "nbformat_minor": 4
}
