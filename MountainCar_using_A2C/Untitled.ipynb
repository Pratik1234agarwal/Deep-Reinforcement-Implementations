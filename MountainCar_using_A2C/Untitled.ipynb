{
 "cells": [
  {
   "cell_type": "code",
   "execution_count": 1,
   "metadata": {},
   "outputs": [],
   "source": [
    "import torch\n",
    "import torch.nn as nn\n",
    "from  torch.distributions import Normal\n",
    "import torch.optim as optim\n",
    "import numpy as np\n",
    "import torch.nn.functional as F\n",
    "import matplotlib.pyplot as plt\n",
    "import gym\n",
    "import math"
   ]
  },
  {
   "cell_type": "code",
   "execution_count": 2,
   "metadata": {},
   "outputs": [],
   "source": [
    "env = gym.make('Pendulum-v0')"
   ]
  },
  {
   "cell_type": "code",
   "execution_count": 3,
   "metadata": {},
   "outputs": [
    {
     "name": "stdout",
     "output_type": "stream",
     "text": [
      "State Size  3\n",
      "State information  Box(3,)\n",
      "Action size  1\n",
      "Action information  Box(1,)\n"
     ]
    }
   ],
   "source": [
    "state_size = env.observation_space.shape[0]\n",
    "action_size = env.action_space.shape[0]\n",
    "print(\"State Size \",state_size)\n",
    "print(\"State information \",env.observation_space)\n",
    "print(\"Action size \",action_size)\n",
    "print(\"Action information \",env.action_space)"
   ]
  },
  {
   "cell_type": "markdown",
   "metadata": {},
   "source": [
    "### Watching a Random Agent Play"
   ]
  },
  {
   "cell_type": "code",
   "execution_count": 4,
   "metadata": {},
   "outputs": [
    {
     "name": "stdout",
     "output_type": "stream",
     "text": [
      "Score  :  -897.9103728575549\n"
     ]
    }
   ],
   "source": [
    "score  = 0\n",
    "state = env.reset()\n",
    "while True:\n",
    "    action = env.action_space.sample()\n",
    "    env.render()\n",
    "    state,reward,done,_ = env.step(action)\n",
    "    score+=reward\n",
    "    if done:\n",
    "        break\n",
    "print(\"Score  : \",score)"
   ]
  },
  {
   "cell_type": "markdown",
   "metadata": {},
   "source": [
    "## 2. Building the Neural Network"
   ]
  },
  {
   "cell_type": "code",
   "execution_count": 5,
   "metadata": {},
   "outputs": [],
   "source": [
    "class Actor(nn.Module):\n",
    "    def __init__(self,input_size,output_size,std=0.1):\n",
    "        super().__init__()\n",
    "        \n",
    "        self.mean = nn.Sequential(nn.Linear(input_size,64),\n",
    "                                  nn.ReLU(),\n",
    "                                  nn.Linear(64,32),\n",
    "                                  nn.ReLU(),\n",
    "                                  nn.Linear(32,output_size),\n",
    "                                  nn.Tanh())\n",
    "        self.log_std = nn.Parameter(torch.ones(1, output_size) * std)\n",
    "    def forward(self,state):\n",
    "        state = torch.from_numpy(state).float()\n",
    "        mu = self.mean(state)\n",
    "        std  = self.log_std.exp()\n",
    "        dist = Normal(mu,std)\n",
    "        return dist"
   ]
  },
  {
   "cell_type": "code",
   "execution_count": 6,
   "metadata": {},
   "outputs": [],
   "source": [
    "class Critic(nn.Module):\n",
    "    def __init__(self,input_size):\n",
    "        super().__init__()\n",
    "        \n",
    "        self.fc1 = nn.Linear(input_size,64)\n",
    "        self.fc2 = nn.Linear(64,32)\n",
    "        self.fc3 = nn.Linear(32,1)\n",
    "    def forward(self,state):\n",
    "        state = torch.from_numpy(state).float()\n",
    "        x = F.leaky_relu(self.fc1(state))\n",
    "        x = F.leaky_relu(self.fc2(x))\n",
    "        x = self.fc3(x)\n",
    "        return x"
   ]
  },
  {
   "cell_type": "code",
   "execution_count": 7,
   "metadata": {},
   "outputs": [],
   "source": [
    "actor = Actor(state_size,action_size)\n",
    "critic = Critic(state_size)\n",
    "ac_opt = optim.Adam(actor.parameters(),lr=0.0001)\n",
    "cr_opt = optim.Adam(critic.parameters(),lr=0.0001)"
   ]
  },
  {
   "cell_type": "markdown",
   "metadata": {},
   "source": [
    "### Hyperparameters"
   ]
  },
  {
   "cell_type": "code",
   "execution_count": 8,
   "metadata": {},
   "outputs": [],
   "source": [
    "n_episodes = 1000\n",
    "beta_entropy = 0.001\n",
    "gamma = 0.9"
   ]
  },
  {
   "cell_type": "markdown",
   "metadata": {},
   "source": [
    "## A2C Continuos Algorithm"
   ]
  },
  {
   "cell_type": "code",
   "execution_count": 9,
   "metadata": {},
   "outputs": [
    {
     "name": "stdout",
     "output_type": "stream",
     "text": [
      "Episode 1000 , score -586.618708 , Avg. over last 100 -609.202037862617 "
     ]
    }
   ],
   "source": [
    "reward_per_ep=[]\n",
    "for ep in range(1,n_episodes+1):\n",
    "    score = 0 \n",
    "    state = env.reset()\n",
    "    for _ in range(100):\n",
    "        \n",
    "        dist = actor(state)\n",
    "        action = dist.sample().cpu().detach().numpy()[0]\n",
    "        action = np.clip(action,-1,1)\n",
    "        next_state,reward,done,_ = env.step(action)\n",
    "        \n",
    "        advantage = reward+(1-done)*gamma*critic(next_state) - critic(state).detach()\n",
    "        critic_loss = 0.5*advantage.pow(2)\n",
    "        cr_opt.zero_grad()\n",
    "        critic_loss.backward()\n",
    "        cr_opt.step()\n",
    "        action = torch.tensor([action])\n",
    "        #log_prob = -((action-mean)**2/((2*std**2)+1e-3) + torch.log(torch.sqrt(2*np.pi*std**2)))*advantage.detach()\n",
    "        log_prob = - dist.log_prob(action) * advantage.detach()\n",
    "        #entropy = (2*np.pi*np.exp(1)*std**2)**0.5\n",
    "        entropy = dist.entropy().mean()\n",
    "        actor_loss = log_prob - beta_entropy*entropy\n",
    "        ac_opt.zero_grad()\n",
    "        actor_loss.backward()\n",
    "        ac_opt.step()\n",
    "        \n",
    "        state = next_state\n",
    "        score+=reward\n",
    "        \n",
    "        if done:\n",
    "            break\n",
    "    reward_per_ep.append(score)\n",
    "    print(\"\\rEpisode {} , score {:3f} , Avg. over last 100 {:3} \".format(ep,score,np.mean(reward_per_ep[-100:])),end=\"\")"
   ]
  },
  {
   "cell_type": "code",
   "execution_count": 50,
   "metadata": {},
   "outputs": [
    {
     "data": {
      "image/png": "[encoded data removed]",
      "text/plain": [
       "<Figure size 432x288 with 1 Axes>"
      ]
     },
     "metadata": {
      "needs_background": "light"
     },
     "output_type": "display_data"
    }
   ],
   "source": [
    "%matplotlib inline\n",
    "plt.plot(np.arange(len(reward_per_ep)),reward_per_ep,label='score')\n",
    "plt.xlabel('Episodes')\n",
    "plt.ylabel('Scores')\n",
    "plt.legend()\n",
    "plt.show()"
   ]
  },
  {
   "cell_type": "code",
   "execution_count": 51,
   "metadata": {},
   "outputs": [
    {
     "data": {
      "image/png": "[encoded data removed]",
      "text/plain": [
       "<Figure size 432x288 with 1 Axes>"
      ]
     },
     "metadata": {
      "needs_background": "light"
     },
     "output_type": "display_data"
    }
   ],
   "source": [
    "plt.plot(np.arange(len(reward_per_ep[500:])),reward_per_ep[500:],label='score')\n",
    "plt.show()"
   ]
  },
  {
   "cell_type": "code",
   "execution_count": 57,
   "metadata": {},
   "outputs": [
    {
     "name": "stdout",
     "output_type": "stream",
     "text": [
      "Score  :  -1240.4406902209992\n"
     ]
    }
   ],
   "source": [
    "score  = 0\n",
    "state = env.reset()\n",
    "while True:\n",
    "    dist = actor(state)\n",
    "    action = dist.sample().cpu().detach().numpy()[0]\n",
    "    action = np.clip(action,-1,1)\n",
    "    env.render()\n",
    "    state,reward,done,_ = env.step(action)\n",
    "    score+=reward\n",
    "    if done:\n",
    "        break\n",
    "print(\"Score  : \",score)"
   ]
  }
 ],
 "metadata": {
  "kernelspec": {
   "display_name": "Python 3",
   "language": "python",
   "name": "python3"
  },
  "language_info": {
   "codemirror_mode": {
    "name": "ipython",
    "version": 3
   },
   "file_extension": ".py",
   "mimetype": "text/x-python",
   "name": "python",
   "nbconvert_exporter": "python",
   "pygments_lexer": "ipython3",
   "version": "3.6.10"
  }
 },
 "nbformat": 4,
 "nbformat_minor": 4
}
