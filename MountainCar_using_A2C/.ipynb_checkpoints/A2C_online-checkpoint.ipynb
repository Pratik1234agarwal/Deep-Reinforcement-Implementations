{
 "cells": [
  {
   "cell_type": "markdown",
   "metadata": {},
   "source": [
    "# ADVANTAGE ACTOR-CRITIC (*ONLINE POLICY*)\n",
    "____"
   ]
  },
  {
   "cell_type": "markdown",
   "metadata": {},
   "source": [
    "### Importing necessary packages"
   ]
  },
  {
   "cell_type": "code",
   "execution_count": 2,
   "metadata": {},
   "outputs": [],
   "source": [
    "import gym\n",
    "import torch\n",
    "import torch.nn as nn\n",
    "import torch.optim as optim\n",
    "import torch.nn.functional as F\n",
    "import numpy as np\n",
    "import matplotlib.pyplot as plt"
   ]
  },
  {
   "cell_type": "code",
   "execution_count": 72,
   "metadata": {},
   "outputs": [],
   "source": [
    "env = gym.make('Acrobot-v1')"
   ]
  },
  {
   "cell_type": "markdown",
   "metadata": {},
   "source": [
    "### Analysing the Env"
   ]
  },
  {
   "cell_type": "code",
   "execution_count": 4,
   "metadata": {},
   "outputs": [
    {
     "name": "stdout",
     "output_type": "stream",
     "text": [
      "State size :  6  Action Size :  3\n",
      "States details :  Box(6,)\n",
      "Action details :  Discrete(3)\n"
     ]
    }
   ],
   "source": [
    "state_size = env.observation_space.shape[0]\n",
    "action_size = env.action_space.n\n",
    "print(\"State size : \",state_size,\" Action Size : \",action_size)\n",
    "print(\"States details : \",env.observation_space)\n",
    "print(\"Action details : \",env.action_space)"
   ]
  },
  {
   "cell_type": "code",
   "execution_count": 5,
   "metadata": {},
   "outputs": [],
   "source": [
    "def t(x):\n",
    "    return torch.from_numpy(x).float()"
   ]
  },
  {
   "cell_type": "markdown",
   "metadata": {},
   "source": [
    "## Defining the Network \n",
    "___"
   ]
  },
  {
   "cell_type": "code",
   "execution_count": 35,
   "metadata": {},
   "outputs": [],
   "source": [
    "class Actor(nn.Module):\n",
    "    def __init__(self,input_size,out_size):\n",
    "        super(Actor,self).__init__()\n",
    "        \n",
    "        self.fc1 = nn.Linear(input_size,64)\n",
    "        self.fc2 = nn.Linear(64,32)\n",
    "        self.fc3 = nn.Linear(32,out_size)\n",
    "        self.drop = nn.Dropout(0.4)\n",
    "    def forward(self,state):\n",
    "        state = t(state)\n",
    "        x = F.relu(self.fc1(state))\n",
    "        x = self.drop(x)\n",
    "        x = F.relu(self.fc2(x))\n",
    "        x = self.drop(x)\n",
    "        x = self.fc3(x)\n",
    "        return F.softmax(x,dim=0)"
   ]
  },
  {
   "cell_type": "code",
   "execution_count": 45,
   "metadata": {},
   "outputs": [],
   "source": [
    "class Critic(nn.Module):\n",
    "    def __init__(self,input_size):\n",
    "        super().__init__()\n",
    "        \n",
    "        self.fc1 = nn.Linear(input_size,64)\n",
    "        self.fc2 = nn.Linear(64,1)\n",
    "    def forward(self,state):\n",
    "        state = t(state)\n",
    "        x = F.relu(self.fc1(state))\n",
    "        x = self.fc2(x)\n",
    "        return x"
   ]
  },
  {
   "cell_type": "code",
   "execution_count": 52,
   "metadata": {},
   "outputs": [],
   "source": [
    "actor = Actor(state_size,action_size)\n",
    "critic = Critic(state_size)\n",
    "ac_opt = optim.Adam(actor.parameters(),lr=1e-4)\n",
    "cr_opt = optim.Adam(critic.parameters(),lr=1e-3)"
   ]
  },
  {
   "cell_type": "markdown",
   "metadata": {},
   "source": [
    "### Hyperparameters related to the Algorithm"
   ]
  },
  {
   "cell_type": "code",
   "execution_count": 53,
   "metadata": {},
   "outputs": [],
   "source": [
    "gamma = 0.99\n",
    "n_episodes = 1000"
   ]
  },
  {
   "cell_type": "markdown",
   "metadata": {},
   "source": [
    "#  A2C Algorithm \n",
    "___"
   ]
  },
  {
   "cell_type": "code",
   "execution_count": 54,
   "metadata": {},
   "outputs": [
    {
     "name": "stdout",
     "output_type": "stream",
     "text": [
      "Episode 100 ,Score : -127.0 , Average Reward : -306.930000 ,Average Reward of last 100 Episode : -306.930000 \n",
      "Episode 200 ,Score : -105.0 , Average Reward : -217.790000 ,Average Reward of last 100 Episode : -128.650000 \n",
      "Episode 300 ,Score : -97.0 , Average Reward : -178.956667 ,Average Reward of last 100 Episode : -101.290000  \n",
      "Episode 400 ,Score : -85.0 , Average Reward : -157.945000 ,Average Reward of last 100 Episode : -94.910000  \n",
      "Episode 500 ,Score : -93.0 , Average Reward : -144.106000 ,Average Reward of last 100 Episode : -88.750000  \n",
      "Episode 600 ,Score : -99.0 , Average Reward : -135.886667 ,Average Reward of last 100 Episode : -94.790000  \n",
      "Episode 700 ,Score : -86.0 , Average Reward : -129.195714 ,Average Reward of last 100 Episode : -89.050000  \n",
      "Episode 800 ,Score : -81.0 , Average Reward : -124.020000 ,Average Reward of last 100 Episode : -87.790000  \n",
      "Episode 900 ,Score : -72.0 , Average Reward : -119.444444 ,Average Reward of last 100 Episode : -82.840000  \n",
      "Episode 1000 ,Score : -90.0 , Average Reward : -116.064000 ,Average Reward of last 100 Episode : -85.640000 \n"
     ]
    }
   ],
   "source": [
    "reward_per_ep = []\n",
    "for ep in range(n_episodes):\n",
    "    state = env.reset()\n",
    "    score = 0\n",
    "    for _ in range(1000):\n",
    "        probs = actor(state)\n",
    "        dist = torch.distributions.Categorical(probs=probs)\n",
    "        action = dist.sample()\n",
    "        \n",
    "        next_state,reward,done,info = env.step(action.detach().data.numpy())\n",
    "        \n",
    "        advantage = reward + (1-done)*gamma*critic(next_state) - critic(state)\n",
    "        ##advantage = reward + (1-done)*gamma*critic(state) - critic(next_state)\n",
    "        \n",
    "        critic_loss = advantage.pow(2).mean()\n",
    "        cr_opt.zero_grad()\n",
    "        critic_loss.backward()\n",
    "        cr_opt.step()\n",
    "        \n",
    "        ## Throwing an entropy bonus to encourage exploration\n",
    "        entropy_bonus = (probs*torch.log(probs)).sum()\n",
    "        \n",
    "        actor_loss = -dist.log_prob(action)*advantage.detach() + 0.0001*entropy_bonus\n",
    "        #torch.nn.utils.clip_grad_norm_(actor.parameters(),5)\n",
    "        ac_opt.zero_grad()\n",
    "        actor_loss.backward()\n",
    "        ac_opt.step()\n",
    "        \n",
    "        state = next_state\n",
    "        score += reward\n",
    "        \n",
    "        if done:\n",
    "            break\n",
    "    reward_per_ep.append(score)\n",
    "    avg_last_100 = np.mean(reward_per_ep[-100:])\n",
    "    print(\"\\rEpisode {} ,\\\n",
    "Score : {} , \\\n",
    "Average Reward : {:3f} ,\\\n",
    "Average Reward of last 100 Episode : {:3f} \".format(ep+1,score,np.mean(reward_per_ep),\n",
    "                                                             avg_last_100,end=\"\"),end=\"\")\n",
    "    if (ep+1)%100 == 0 :\n",
    "        print()\n",
    "    if avg_last_100 > 195:\n",
    "        print()\n",
    "        print(\"Episode solved in \",ep+1)\n",
    "        break"
   ]
  },
  {
   "cell_type": "markdown",
   "metadata": {},
   "source": [
    "### Saving the model's parameter"
   ]
  },
  {
   "cell_type": "code",
   "execution_count": 113,
   "metadata": {},
   "outputs": [],
   "source": [
    "torch.save(actor.state_dict,'checkpoint.pth')"
   ]
  },
  {
   "cell_type": "markdown",
   "metadata": {},
   "source": [
    "### Loading a Saved Model"
   ]
  },
  {
   "cell_type": "code",
   "execution_count": 114,
   "metadata": {},
   "outputs": [],
   "source": [
    "actor.state_dict = torch.load('checkpoint.pth')"
   ]
  },
  {
   "cell_type": "markdown",
   "metadata": {},
   "source": [
    "## Visualizing the Results\n",
    "___"
   ]
  },
  {
   "cell_type": "code",
   "execution_count": 94,
   "metadata": {},
   "outputs": [
    {
     "data": {
      "image/png": "[encoded data removed]",
      "text/plain": [
       "<Figure size 432x288 with 1 Axes>"
      ]
     },
     "metadata": {
      "needs_background": "light"
     },
     "output_type": "display_data"
    }
   ],
   "source": [
    "%matplotlib inline\n",
    "plt.title('Rewards Received Per Episodes')\n",
    "plt.plot(np.arange(len(reward_per_ep))+1,reward_per_ep,label='Score Per Episode')\n",
    "plt.xlabel(\"Episodes\")\n",
    "plt.ylabel(\"Scores \")\n",
    "plt.show()"
   ]
  },
  {
   "cell_type": "markdown",
   "metadata": {},
   "source": [
    "## Visualizing after 500 episodes"
   ]
  },
  {
   "cell_type": "code",
   "execution_count": 110,
   "metadata": {},
   "outputs": [
    {
     "data": {
      "image/png": "[encoded data removed]",
      "text/plain": [
       "<Figure size 432x288 with 1 Axes>"
      ]
     },
     "metadata": {
      "needs_background": "light"
     },
     "output_type": "display_data"
    }
   ],
   "source": [
    "plt.plot(np.arange(len(reward_per_ep[520:]))+520,reward_per_ep[520:],label='score',Color='b')\n",
    "plt.xlabel(\"Episodes\")\n",
    "plt.ylabel(\"Scores \")\n",
    "plt.show()"
   ]
  },
  {
   "cell_type": "markdown",
   "metadata": {},
   "source": [
    "## Watching an Trained Agent Play"
   ]
  },
  {
   "cell_type": "code",
   "execution_count": 157,
   "metadata": {},
   "outputs": [
    {
     "name": "stdout",
     "output_type": "stream",
     "text": [
      "Score achieved =  -75.0\n"
     ]
    }
   ],
   "source": [
    "state = env.reset()\n",
    "score = 0 \n",
    "actor.eval()\n",
    "while True:\n",
    "    probs = actor(state)\n",
    "    env.render()\n",
    "    action = np.random.choice(action_size,p=probs.detach().numpy())\n",
    "    state,reward,done,_ = env.step(action)\n",
    "    score+=reward\n",
    "    if done:\n",
    "        break\n",
    "print(\"Score achieved = \",score)"
   ]
  },
  {
   "cell_type": "code",
   "execution_count": 160,
   "metadata": {},
   "outputs": [
    {
     "name": "stdout",
     "output_type": "stream",
     "text": [
      "Avg reward :  -84.63\n"
     ]
    }
   ],
   "source": [
    "rewards = []\n",
    "actor.eval()\n",
    "for i in range(100):\n",
    "    score = 0\n",
    "    state = env.reset()\n",
    "    while True:\n",
    "        probs = actor(state)\n",
    "        action = np.random.choice(action_size,p=probs.detach().numpy())\n",
    "        state,reward,done,_ = env.step(action)\n",
    "        score+=reward\n",
    "        if done:\n",
    "            break\n",
    "    rewards.append(score)\n",
    "print('Avg reward : ',np.mean(rewards))"
   ]
  }
 ],
 "metadata": {
  "kernelspec": {
   "display_name": "Python 3",
   "language": "python",
   "name": "python3"
  },
  "language_info": {
   "codemirror_mode": {
    "name": "ipython",
    "version": 3
   },
   "file_extension": ".py",
   "mimetype": "text/x-python",
   "name": "python",
   "nbconvert_exporter": "python",
   "pygments_lexer": "ipython3",
   "version": "3.6.10"
  }
 },
 "nbformat": 4,
 "nbformat_minor": 4
}
